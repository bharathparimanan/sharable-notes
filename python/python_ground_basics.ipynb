{
 "cells": [
  {
   "cell_type": "markdown",
   "id": "02d207c4-553d-4ff3-83fe-dcb18f2943dc",
   "metadata": {},
   "source": [
    "## data science\n",
    "data science is an inter disciplinary skill comprises of domain knowledge(design & use algorithms, collect - store and process data), math and statistical knowledge(for summarise datasets and create visualisation)\n",
    "\n",
    "## python \n",
    "offers large and active ecosystem to third party packages, a wide veriety of tool(numpy, pandas, matplotlib, scikitlearn ...) for data intesive operations and computations such as anayisis, visualisation of large datasets and tools to store data efficiently, manipulate and gain insights "
   ]
  },
  {
   "cell_type": "markdown",
   "id": "2e1058c6-086d-4675-a992-e0283436a136",
   "metadata": {},
   "source": [
    "## data types - represents the kind of value that tells what operations can be performed on a particular data.\n",
    "\n",
    "Python also provides some built-in data types, in particular, dict, list, set and frozenset, and tuple. \n",
    "The str class is used to hold Unicode strings, and the bytes and bytearray classes are used to hold binary data.\n",
    "\n",
    "Numeric – int, float, complex\n",
    "Sequence Type – string, list, tuple\n",
    "Mapping Type – dict\n",
    "Boolean – bool\n",
    "Set Type – set, frozenset\n",
    "Binary Types – bytes, bytearray, memoryview"
   ]
  },
  {
   "cell_type": "markdown",
   "id": "6b14e43d-0717-4880-9dba-6daac6d662ec",
   "metadata": {},
   "source": [
    "## Numeric - int - return as a integer form a given object or converts a given number in a given base to decimal "
   ]
  },
  {
   "cell_type": "code",
   "execution_count": 39,
   "id": "f627015d-4bc2-4671-85ac-770e99d955aa",
   "metadata": {},
   "outputs": [
    {
     "name": "stdout",
     "output_type": "stream",
     "text": [
      "int  5\n"
     ]
    }
   ],
   "source": [
    "x = '5'\n",
    "y = 'int '\n",
    "z = \"python\"\n",
    "print(y,int(x))"
   ]
  },
  {
   "cell_type": "markdown",
   "id": "e5a770f7-7478-41f1-818a-e30a866fe479",
   "metadata": {},
   "source": [
    "## Numeric - float - return dividing the integer into a fractional part, represents a floating point / real number"
   ]
  },
  {
   "cell_type": "code",
   "execution_count": 8,
   "id": "a97b17cc-a5a2-4d09-a3fa-7c9b0b3de5b1",
   "metadata": {},
   "outputs": [
    {
     "name": "stdout",
     "output_type": "stream",
     "text": [
      "float  5.0\n"
     ]
    }
   ],
   "source": [
    "print('float ',float(x))"
   ]
  },
  {
   "cell_type": "markdown",
   "id": "54e80f95-4bca-422a-9c09-6035a08ae293",
   "metadata": {},
   "source": [
    "## Numeric - complex - when the real and imaginary parts are passed, it always converts string to complex number"
   ]
  },
  {
   "cell_type": "code",
   "execution_count": 11,
   "id": "5affed2a-d26a-4a4e-b4b9-24fb4bc4997b",
   "metadata": {},
   "outputs": [
    {
     "name": "stdout",
     "output_type": "stream",
     "text": [
      "complex  (5+0j)\n"
     ]
    }
   ],
   "source": [
    "print('complex ',complex(x))"
   ]
  },
  {
   "cell_type": "markdown",
   "id": "62896ebc-923c-4a21-b3a4-5519fb30557e",
   "metadata": {},
   "source": [
    "## Sequence - string - python treates anything inside a quotes as string used either single or double quotes, string in python are immutable so we doesn't change once created so we can use slice/concate"
   ]
  },
  {
   "cell_type": "code",
   "execution_count": 43,
   "id": "4937429c-8005-4e0e-978b-f4919d55fe25",
   "metadata": {},
   "outputs": [
    {
     "name": "stdout",
     "output_type": "stream",
     "text": [
      "it's a python\n",
      "Data \n",
      " Handling\n",
      "string accessing  p\n",
      "negative indexing  n\n",
      "slicing  yt pyt\n",
      "srring reverse  nohtyp\n",
      "python\n",
      "6\n",
      "PYTHON   python\n",
      "python\n",
      "python\n",
      "membership testing  True\n",
      "format with python.\n"
     ]
    }
   ],
   "source": [
    "print('it\\'s a python') #creating a string with single quoute then use a escaping characters\n",
    "print(\"Data \\n Handling\") #using escape character brings down to the new line\n",
    "print(\"string accessing \",z[0]) #string accessing with index\n",
    "print(\"negative indexing \",z[-1]) #negative index with reverse\n",
    "print(\"slicing \",z[1:3],z[:3]) #slicing from : to , if not value took it as zero\n",
    "print(\"srring reverse \",z[::-1])\n",
    "del z #delete the entire string\n",
    "z = \"python\"\n",
    "print(z)\n",
    "\n",
    "print(len(z)) #length of the string\n",
    "print(z.upper(),' ',z.lower()) #case\n",
    "print(z.replace('n','n')) #replace\n",
    "print(z.strip()) #remove space\n",
    "print(\"membership testing \",(\"p\" in z)) #membership testing\n",
    "print(\"format with {}.\".format(z)) #formating\n"
   ]
  },
  {
   "cell_type": "markdown",
   "id": "4a423f5b-8ce7-4612-b292-33d205ca6292",
   "metadata": {},
   "source": [
    "## sequence - list - a dynamic sized array, list in python contains various data types, can consist of another list too, mutable one so we can change, list mainly stores the reference at contagious locations accessed by the index value the actual values stored in different location, it is ordered based on how it added"
   ]
  },
  {
   "cell_type": "code",
   "execution_count": 64,
   "id": "9cbd4408-4f88-4d23-8df0-ecde31daec84",
   "metadata": {},
   "outputs": [
    {
     "name": "stdout",
     "output_type": "stream",
     "text": [
      "[1, 'apple', 5]   [2, 'orange', 3]\n",
      "1   orange\n",
      "poped_val :  apple\n",
      "length :  5  max :  4\n",
      "('c', 2)\n",
      "1\n",
      "[2, 5, 'c', 'a', 'b']\n",
      "[2, 'b', 'a', 5, 'c']\n",
      "[2, 'b', 'a', 5, 'c', 2, 'orange', 3, 2, 3, 4]\n",
      "[2, 3, 4]\n",
      "[2, 'b', 'a', 5, 'c']\n"
     ]
    }
   ],
   "source": [
    "a = [1,'apple',5] #create a list\n",
    "b = list((2,'orange',3)) #create using list constructor with a tuple\n",
    "print(a,' ',b)\n",
    "         \n",
    "print(a[0],' ',b[-2])#accessing through indexing and negative indexing\n",
    "\n",
    "a.append('a')#appends value at the last\n",
    "a.extend(['b','c']) #extends the array \n",
    "a.insert(3,'@') #insert value based on given index\n",
    "a.remove('@') #remove the first occurence\n",
    "poped_val = a.pop(1)\n",
    "print(\"poped_val : \",poped_val)\n",
    "\n",
    "c = [2,3,4]\n",
    "print(\"length : \",len(a),\" max : \",max(c)) #get the length and largest(max) value only when the elements in the array supports arithmetic\n",
    "swap = a[0],a[-1] = a[-1],b[0] #swap two elements\n",
    "print(swap)\n",
    "\n",
    "#exist in the list\n",
    "if 5 in a:\n",
    "    print(a.index(5))\n",
    "else:\n",
    "    print(\"not in a list\")\n",
    "\n",
    "print(list(set(a))) #remove duplicates based on set theory and returns a set so we use list constructor\n",
    "\n",
    "a.reverse()\n",
    "print(a)#reverse a list\n",
    "print(a + b + c) #concat list\n",
    "c.sort()\n",
    "print(c) #sort\n",
    "print(a) "
   ]
  },
  {
   "cell_type": "markdown",
   "id": "4cba2637-8e8a-497e-8af0-04b72faba973",
   "metadata": {},
   "source": [
    "## sequence - tuple - an immutable ordered list but not like list and strings because it has various data types but it can access through index and we do slice,concat,len,max,sort kind of operations"
   ]
  },
  {
   "cell_type": "code",
   "execution_count": 68,
   "id": "1538f9b5-2eb5-42e9-8050-78e9d4a290d3",
   "metadata": {},
   "outputs": [
    {
     "name": "stdout",
     "output_type": "stream",
     "text": [
      "('a', 'apple', '@')\n"
     ]
    }
   ],
   "source": [
    "d = ('a',\"apple\",'@')\n",
    "print(d)"
   ]
  },
  {
   "cell_type": "markdown",
   "id": "8f827eb3-8c6c-4907-a556-e5c97da02c11",
   "metadata": {},
   "source": [
    "## mapping - dict - python dictionary is a data structure that store key : value pair here the value is mutable and having various data types but the key is immutable and can't be repeated"
   ]
  },
  {
   "cell_type": "code",
   "execution_count": 83,
   "id": "5a702ac1-a015-4aa8-b39a-cf261206b004",
   "metadata": {},
   "outputs": [
    {
     "name": "stdout",
     "output_type": "stream",
     "text": [
      "apple\n",
      "apple\n",
      "apple\n",
      "ball\n",
      "cat\n",
      "{'dog'}\n",
      "a\n",
      "b\n",
      "c\n",
      "d\n",
      "{'a': 'apple', 'b': 'ball', 'c': 'cat', 'd': {'dog'}}\n"
     ]
    }
   ],
   "source": [
    "dic = {\"a\":\"apple\",\"b\":\"ball\",\"c\":\"cat\",\"d\":{\"dog\"}}\n",
    "print(dic[\"a\"])#access using key\n",
    "print(dic.get(\"a\"))#access using get()\n",
    "#get values by iteration \n",
    "for i in dic.values():\n",
    "    print(i)\n",
    "#get key by iteration\n",
    "for j in dic:\n",
    "    print(j)\n",
    "print(dic)"
   ]
  },
  {
   "cell_type": "markdown",
   "id": "9ed73045-eb96-445d-9e09-573e1d7c62a0",
   "metadata": {},
   "source": [
    "## boolean - equating operators - returns true/false"
   ]
  },
  {
   "cell_type": "code",
   "execution_count": 86,
   "id": "12461aca-573e-458b-ac6a-0b277b59598a",
   "metadata": {},
   "outputs": [
    {
     "name": "stdout",
     "output_type": "stream",
     "text": [
      "True  :  False\n"
     ]
    }
   ],
   "source": [
    "print(bool(1),' : ',bool())"
   ]
  },
  {
   "cell_type": "markdown",
   "id": "fec848d8-8fe6-4427-ba82-f410476c027c",
   "metadata": {},
   "source": [
    "## set type - set - unordered,unindexed,mutable list without having duplicates within a set / have potential to raise a type error\n",
    "- frozenset - same like set but immutable"
   ]
  },
  {
   "cell_type": "code",
   "execution_count": 91,
   "id": "5e8d91fa-79ef-4927-9718-83dbe8f02c65",
   "metadata": {},
   "outputs": [
    {
     "name": "stdout",
     "output_type": "stream",
     "text": [
      "frozenset({1, 2, 'a', 'b'})\n",
      "{1, 2, 'a', 'b'}\n"
     ]
    }
   ],
   "source": [
    "s = set(['a','b',1,2,'b'])\n",
    "fs = frozenset(s)\n",
    "print(fs)\n",
    "print(s)"
   ]
  },
  {
   "cell_type": "markdown",
   "id": "95954aa8-acb5-4d79-9b9f-0d3b52347804",
   "metadata": {},
   "source": [
    "## byte types - byte - python byte func creates a sequence of byte by string will be encoded into byte, the default encoding is 'utf-8', the iterable will have iterate each element but the iterable integer between 0 and 255\n",
    "- bytearray() returns a array of given byte"
   ]
  },
  {
   "cell_type": "code",
   "execution_count": 106,
   "id": "61949c02-539c-458d-ad7f-ec67df5efc47",
   "metadata": {},
   "outputs": [
    {
     "name": "stdout",
     "output_type": "stream",
     "text": [
      "b'\\xff\\xfep\\x00y\\x00t\\x00h\\x00o\\x00n\\x00'\n",
      "bytearray(b'python')\n"
     ]
    }
   ],
   "source": [
    "print(bytes('python','utf-16'))\n",
    "print(bytearray('python','utf-8'))"
   ]
  },
  {
   "cell_type": "markdown",
   "id": "58e39ac4-a703-4968-b75b-321b1b664e8b",
   "metadata": {},
   "source": [
    "## byte type - memoryview - allows to access the internal data of an object supports buffer protocol without intermediate copying\n",
    "- buffer protocol represent the way for access the internal data"
   ]
  },
  {
   "cell_type": "code",
   "execution_count": 113,
   "id": "bef9f166-c191-4b1a-b6e2-3f90e634c613",
   "metadata": {},
   "outputs": [
    {
     "name": "stdout",
     "output_type": "stream",
     "text": [
      "<memory at 0x127a44ac0>\n"
     ]
    }
   ],
   "source": [
    "print(memoryview(bytearray('python','utf-8')))"
   ]
  },
  {
   "cell_type": "markdown",
   "id": "587ec997-f63c-4c6f-a942-79a8ce209610",
   "metadata": {},
   "source": [
    "## type annotations;\n",
    "python is inherently dynamic typing language so cant check type during runtime as static typing, rather we use type hints but that also not check the type during runtime, the better way to use static typing by install typeguard (applies only on functions or methods not in variables)"
   ]
  },
  {
   "cell_type": "code",
   "execution_count": 29,
   "id": "8deb96b8-434b-43aa-8529-aebb0b13cd15",
   "metadata": {},
   "outputs": [],
   "source": [
    "##manual type check\n",
    "\n",
    "if not isinstance(\"\",str):\n",
    "    raise TypeError(\"Error message\")"
   ]
  },
  {
   "cell_type": "code",
   "execution_count": 33,
   "id": "804ccd4c-be07-4b39-b103-97f47ef1b10b",
   "metadata": {},
   "outputs": [
    {
     "data": {
      "text/plain": [
       "'hello'"
      ]
     },
     "execution_count": 33,
     "metadata": {},
     "output_type": "execute_result"
    }
   ],
   "source": [
    "\"hello\" ##simply out the given obj"
   ]
  },
  {
   "cell_type": "markdown",
   "id": "123cb16e-c88c-4edf-a35b-277f2fcb48aa",
   "metadata": {},
   "source": [
    "## Operators - Comparission operators (6) and logical operators (3)\n"
   ]
  },
  {
   "cell_type": "code",
   "execution_count": 19,
   "id": "ea296a36-d91d-4c63-83a8-3d18f46833ed",
   "metadata": {},
   "outputs": [
    {
     "name": "stdout",
     "output_type": "stream",
     "text": [
      "6.421296296296296\n",
      "False\n"
     ]
    }
   ],
   "source": [
    "#to perform operations on variables and values\n",
    "#works under bodmas principle\n",
    "av = 3; sv = 4; mv = 5; dv = 6;\n",
    "print((av + sv) - (mv / dv) ** av)\n",
    "print(bool(sv - av) & bool(dv / av) ^ bool(sv / av))"
   ]
  },
  {
   "cell_type": "markdown",
   "id": "34bd5688-82cd-4983-8f22-93a6f4eed660",
   "metadata": {},
   "source": [
    "## Advanced numbers - python has several numerical built in function & Advanced string\n"
   ]
  },
  {
   "cell_type": "code",
   "execution_count": 40,
   "id": "11bd0776-3f04-497c-9896-3cca004c3eb4",
   "metadata": {},
   "outputs": [
    {
     "name": "stdout",
     "output_type": "stream",
     "text": [
      "0x7c\n",
      "0b1000011\n",
      "3\n",
      "8\n",
      "0\n",
      "4\n",
      "3.87\n"
     ]
    }
   ],
   "source": [
    "print(hex(124)) #hexadecimal value\n",
    "print(bin(67)) #binary value\n",
    "print(abs(-3)) #absolute value\n",
    "print(pow(2,3))\n",
    "print(pow(2,3,4)) #act like 2 ** 3 % 4\n",
    "print(round(3.8))\n",
    "print(round(3.8745778,2)) #mention the decimal points"
   ]
  },
  {
   "cell_type": "markdown",
   "id": "e9b365b4-e902-4f44-adf2-76fbc58743bc",
   "metadata": {},
   "source": [
    "## Advanced String"
   ]
  },
  {
   "cell_type": "code",
   "execution_count": 60,
   "id": "63a63f1b-a565-4d4c-b9c1-0d78d3be4b62",
   "metadata": {},
   "outputs": [
    {
     "name": "stdout",
     "output_type": "stream",
     "text": [
      "hello world\n",
      "HELLO WORLD\n",
      "Hello world\n",
      "3\n",
      "1\n",
      "$$$$hello world$$$$$\n",
      "True\n",
      "False\n",
      "False\n",
      "False\n",
      "False\n",
      "False\n",
      "False\n",
      "['he', '', 'o wor', 'd']\n",
      "<class 'tuple'>\n"
     ]
    }
   ],
   "source": [
    "alphabet = \"hello world\"\n",
    "print(alphabet.lower()) #returns lowercased from\n",
    "print(alphabet.upper()) #returns uppercased from\n",
    "print(alphabet.capitalize()) #capitalize the given word\n",
    "print(alphabet.count('l')) #returns the number of elements\n",
    "print(alphabet.find('e')) #returns the index of element\n",
    "print(alphabet.center(20,'$')) #create a copy of string at center surrounded by given element with numbers\n",
    "\n",
    "##retruns boolean if the condition satisfies\n",
    "print(alphabet.islower())\n",
    "print(alphabet.isupper())\n",
    "print(alphabet.isspace())\n",
    "print(alphabet.istitle())\n",
    "print(alphabet.isalnum())\n",
    "print(alphabet.isalpha())\n",
    "print(alphabet.endswith('o'))\n",
    "\n",
    "print(alphabet.split('l')) #returns array\n",
    "print(type(alphabet.partition('l'))) #returns a typle"
   ]
  },
  {
   "cell_type": "markdown",
   "id": "9da20eab-22ec-422c-b6ac-da7bfe7c9f8b",
   "metadata": {},
   "source": [
    "## advanced sets - python inbuilt set functions"
   ]
  },
  {
   "cell_type": "code",
   "execution_count": 74,
   "id": "0616345e-f378-42c5-8ce2-f53dc92eac16",
   "metadata": {},
   "outputs": [
    {
     "name": "stdout",
     "output_type": "stream",
     "text": [
      "None\n",
      "{5, 6}\n",
      "{5}\n",
      "set()\n",
      "{5}\n",
      "shallow copy of set3 : {5}\n"
     ]
    }
   ],
   "source": [
    "set1 = {1,2,3}; set2 = {3,4}; set3 = {5}; set4 = set3.copy()\n",
    "\n",
    "print(set3.add(6))\n",
    "print(set3)\n",
    "set3.discard(6)\n",
    "print(set3)\n",
    "set3.clear()\n",
    "print(set3)\n",
    "set3.add(5)\n",
    "print(set3)\n",
    "print(\"shallow copy of set3 :\",set4) #returns the shallow copy so the changes doesnt affect the main set"
   ]
  },
  {
   "cell_type": "code",
   "execution_count": 142,
   "id": "ae2c0a50-fec5-46f8-8bb4-01afcb346545",
   "metadata": {},
   "outputs": [
    {
     "name": "stdout",
     "output_type": "stream",
     "text": [
      "['u', 'i', 'u']\n"
     ]
    }
   ],
   "source": [
    "tct = \"uybifubf\"\n",
    "vov = [cop for cop in tct if cop in \"a,e,i,o,u\"]\n",
    "print(vov)"
   ]
  },
  {
   "cell_type": "markdown",
   "id": "ef29c9ee-7c88-4bd9-95ea-326ca0de1874",
   "metadata": {},
   "source": [
    "## conditional statements - control flow governs the excecution of code when the condition satisfied"
   ]
  },
  {
   "cell_type": "code",
   "execution_count": 12,
   "id": "5f5bc71c-4a69-4a39-a36c-601af8513e5b",
   "metadata": {},
   "outputs": [
    {
     "name": "stdout",
     "output_type": "stream",
     "text": [
      "do something\n",
      "odd\n",
      "even\n",
      "odd\n",
      "even\n",
      "odd\n",
      "even\n",
      "odd\n",
      "even\n",
      "odd\n",
      "integ is less than 5 0\n",
      "integ is less than 5 1\n",
      "integ is less than 5 2\n",
      "integ is less than 5 3\n",
      "integ is less than 5 4\n",
      "integ is less than 5 5\n",
      "integ is greater than 5 6\n"
     ]
    }
   ],
   "source": [
    "def elifel(condition):\n",
    "    if (condition):\n",
    "        print(\"do something\")\n",
    "    elif (condition):\n",
    "        print(\"do something when the second condition satisfies\")\n",
    "    else:\n",
    "        print(\"do something else\")\n",
    "    return\n",
    "\n",
    "elifel(True)\n",
    "\n",
    "def loopingst(iterat):\n",
    "    for item in iterat:\n",
    "        if(item % 2 == 0):\n",
    "            print(\"even\")\n",
    "        else:\n",
    "            print(\"odd\")\n",
    "    return\n",
    "    \n",
    "loopingst([1,2,3,4,5,6,7,8,9])\n",
    "\n",
    "integ = 0\n",
    "\n",
    "while(integ <= 5):\n",
    "    print(f'integ is less than 5 {integ}')\n",
    "    integ += 1\n",
    "else:\n",
    "    print(f'integ is greater than 5 {integ}')"
   ]
  },
  {
   "cell_type": "markdown",
   "id": "310d0d3d-ce88-4644-8f63-b90b6527e43d",
   "metadata": {},
   "source": [
    "## Memory management which is automatic in python with two strategies \n",
    "1.Reference Count - number of times the object is referenced - when it becomes zero it becomes unreferenced and the memory is freed up\n",
    "2.Garbage collection"
   ]
  }
 ],
 "metadata": {
  "kernelspec": {
   "display_name": "Python [conda env:base] *",
   "language": "python",
   "name": "conda-base-py"
  },
  "language_info": {
   "codemirror_mode": {
    "name": "ipython",
    "version": 3
   },
   "file_extension": ".py",
   "mimetype": "text/x-python",
   "name": "python",
   "nbconvert_exporter": "python",
   "pygments_lexer": "ipython3",
   "version": "3.12.7"
  }
 },
 "nbformat": 4,
 "nbformat_minor": 5
}
